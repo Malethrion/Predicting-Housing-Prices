{
 "cells": [
  {
   "cell_type": "markdown",
   "metadata": {},
   "source": [
    "Correlation Study\n",
    "This notebook explores the correlation between features in the dataset.\n",
    "We visualize how different variables relate to each other using a correlation matrix and heatmap."
   ]
  },
  {
   "cell_type": "markdown",
   "metadata": {},
   "source": [
    "## Load the Dataset\\nLoad the cleaned dataset to analyze correlations."
   ]
  },
  {
   "cell_type": "code",
   "execution_count": null,
   "metadata": {},
   "outputs": [],
   "source": [
    "import pandas as pd\n",
    "import seaborn as sns\n",
    "import matplotlib.pyplot as plt\n",
    "import streamlit as st  # Ensure Streamlit is imported for UI rendering\n",
    "\n",
    "# Load dataset\n",
    "data = pd.read_csv(\"../data/final_cleaned_train.csv\")  # Ensure path is correct\n",
    "\n",
    "# Display the first few rows\n",
    "st.write(\"### Sample Data\", data.head())  \n"
   ]
  },
  {
   "cell_type": "markdown",
   "metadata": {},
   "source": [
    "## Correlation Matrix\n",
    "Correlation measures the relationship between numerical features in the dataset. \n",
    "A correlation matrix helps identify which variables influence each other the most.\n"
   ]
  },
  {
   "cell_type": "code",
   "execution_count": null,
   "metadata": {},
   "outputs": [],
   "source": [
    "# Compute correlation matrix\n",
    "correlation_matrix = data.corr(numeric_only=True)  # Ensures only numerical columns are used\n",
    "\n",
    "# Display correlation heatmap\n",
    "plt.figure(figsize=(12, 8))\n",
    "sns.heatmap(correlation_matrix, annot=True, cmap='coolwarm', fmt='.2f')\n",
    "\n",
    "# Render heatmap in Streamlit\n",
    "st.pyplot()\n"
   ]
  },
  {
   "cell_type": "markdown",
   "metadata": {},
   "source": [
    "## Key Takeaways from the Correlation Matrix\n",
    "- Features with high positive correlation influence each other directly.\n",
    "- Features with high negative correlation move in opposite directions.\n",
    "- Features with very low correlation are independent of each other.\n",
    "- Understanding correlation helps in feature selection for machine learning models.\n"
   ]
  }
 ],
 "metadata": {
  "kernelspec": {
   "display_name": ".venv",
   "language": "python",
   "name": "python3"
  },
  "language_info": {
   "codemirror_mode": {
    "name": "ipython",
    "version": 3
   },
   "file_extension": ".py",
   "mimetype": "text/x-python",
   "name": "python",
   "nbconvert_exporter": "python",
   "pygments_lexer": "ipython3",
   "version": "3.12.9"
  }
 },
 "nbformat": 4,
 "nbformat_minor": 2
}
