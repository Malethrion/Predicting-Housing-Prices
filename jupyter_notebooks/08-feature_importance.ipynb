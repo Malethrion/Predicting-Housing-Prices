{
 "cells": [
  {
   "cell_type": "markdown",
   "metadata": {},
   "source": [
    "# Feature Importance\n",
    "\n",
    "Ensures consistency with feature_importance.py.\n",
    "This notebook identifies and visualizes the most important features in predicting house prices.\n"
   ]
  },
  {
   "cell_type": "code",
   "execution_count": 1,
   "metadata": {},
   "outputs": [],
   "source": [
    "# Import necessary libraries\n",
    "import pandas as pd\n",
    "import numpy as np\n",
    "import pickle\n",
    "import streamlit as st\n",
    "import matplotlib.pyplot as plt\n",
    "import seaborn as sns\n"
   ]
  },
  {
   "cell_type": "markdown",
   "metadata": {},
   "source": [
    "## Load Optimized Model\n",
    "We load the trained model from the previous step to analyze feature importance.\n",
    "\n"
   ]
  },
  {
   "cell_type": "code",
   "execution_count": 2,
   "metadata": {},
   "outputs": [
    {
     "name": "stdout",
     "output_type": "stream",
     "text": [
      "Optimized model loaded successfully.\n"
     ]
    }
   ],
   "source": [
    "# Load the trained model\n",
    "with open(\"../models/optimized_model.pkl\", \"rb\") as f:\n",
    "    model = pickle.load(f)\n",
    "\n",
    "print(\"Optimized model loaded successfully.\")\n"
   ]
  },
  {
   "cell_type": "markdown",
   "metadata": {},
   "source": [
    "## Compute Feature Importance\n",
    "We extract feature importance scores from the trained model.\n"
   ]
  },
  {
   "cell_type": "code",
   "execution_count": 3,
   "metadata": {},
   "outputs": [
    {
     "name": "stdout",
     "output_type": "stream",
     "text": [
      "Top Important Features:\n",
      "        Feature  Importance\n",
      "4   OverallQual    0.565433\n",
      "16    GrLivArea    0.121059\n",
      "14     2ndFlrSF    0.034610\n",
      "12  TotalBsmtSF    0.033921\n",
      "9    BsmtFinSF1    0.030143\n",
      "13     1stFlrSF    0.026641\n",
      "3       LotArea    0.017480\n",
      "27   GarageArea    0.016038\n",
      "26   GarageCars    0.012746\n",
      "6     YearBuilt    0.011126\n"
     ]
    }
   ],
   "source": [
    "# Load processed dataset to get feature names\n",
    "data = pd.read_csv(\"../data/processed_train.csv\")\n",
    "\n",
    "# Extract feature importance from model\n",
    "feature_importances = model.feature_importances_\n",
    "feature_names = data.drop(columns=[\"SalePrice\"]).columns  # Remove target column\n",
    "\n",
    "# Create DataFrame\n",
    "importance_df = pd.DataFrame({\n",
    "    \"Feature\": feature_names,\n",
    "    \"Importance\": feature_importances\n",
    "})\n",
    "\n",
    "# Sort by importance\n",
    "importance_df = importance_df.sort_values(by=\"Importance\", ascending=False)\n",
    "\n",
    "# Display top features\n",
    "print(\"Top Important Features:\")\n",
    "print(importance_df.head(10))\n",
    "\n"
   ]
  },
  {
   "cell_type": "markdown",
   "metadata": {},
   "source": [
    "## Visualize Feature Importance\n",
    "We create a bar plot to visualize the most important features.\n",
    "\n"
   ]
  },
  {
   "cell_type": "code",
   "execution_count": 4,
   "metadata": {},
   "outputs": [
    {
     "name": "stderr",
     "output_type": "stream",
     "text": [
      "C:\\Users\\jinno\\AppData\\Local\\Temp\\ipykernel_35760\\3190155508.py:3: FutureWarning: \n",
      "\n",
      "Passing `palette` without assigning `hue` is deprecated and will be removed in v0.14.0. Assign the `y` variable to `hue` and set `legend=False` for the same effect.\n",
      "\n",
      "  sns.barplot(x=importance_df[\"Importance\"][:10], y=importance_df[\"Feature\"][:10], palette=\"viridis\")\n",
      "C:\\Users\\jinno\\AppData\\Local\\Temp\\ipykernel_35760\\3190155508.py:7: UserWarning: FigureCanvasAgg is non-interactive, and thus cannot be shown\n",
      "  plt.show()\n"
     ]
    }
   ],
   "source": [
    "# Plot feature importance\n",
    "plt.figure(figsize=(12, 6))\n",
    "sns.barplot(x=importance_df[\"Importance\"][:10], y=importance_df[\"Feature\"][:10], palette=\"viridis\")\n",
    "plt.xlabel(\"Feature Importance Score\")\n",
    "plt.ylabel(\"Feature\")\n",
    "plt.title(\"Top 10 Most Important Features in Predicting Housing Prices\")\n",
    "plt.show()\n"
   ]
  },
  {
   "cell_type": "markdown",
   "metadata": {},
   "source": [
    "## Summary\n",
    "- Loaded the trained model.\n",
    "- Extracted feature importance.\n",
    "- Identified the top predictive features.\n",
    "- Visualized the most important features.\n"
   ]
  }
 ],
 "metadata": {
  "kernelspec": {
   "display_name": ".venv",
   "language": "python",
   "name": "python3"
  },
  "language_info": {
   "codemirror_mode": {
    "name": "ipython",
    "version": 3
   },
   "file_extension": ".py",
   "mimetype": "text/x-python",
   "name": "python",
   "nbconvert_exporter": "python",
   "pygments_lexer": "ipython3",
   "version": "3.12.9"
  }
 },
 "nbformat": 4,
 "nbformat_minor": 2
}
