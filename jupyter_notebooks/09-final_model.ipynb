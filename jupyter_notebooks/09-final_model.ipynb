{
 "cells": [
  {
   "cell_type": "markdown",
   "metadata": {},
   "source": [
    "# Final Model\n",
    "\n",
    "## Purpose\n",
    "This notebook saves the final trained model for deployment.\n",
    "\n",
    "## Key Objectives\n",
    "- Store the optimized model as a `.pkl` file.\n",
    "- Make final predictions.\n"
   ]
  },
  {
   "cell_type": "code",
   "execution_count": null,
   "metadata": {},
   "outputs": [],
   "source": [
    "import pickle\n",
    "\n",
    "# Load best model (assuming it's the final model after tuning)\n",
    "best_model = pickle.load(open(\"scripts/best_model.pkl\", \"rb\"))\n",
    "\n",
    "# Save the model to disk for deployment\n",
    "pickle.dump(best_model, open(\"scripts/final_model.pkl\", \"wb\"))\n",
    "\n",
    "# Optionally, you can print a message confirming model saving\n",
    "print(\"Final model saved successfully!\")\n"
   ]
  }
 ],
 "metadata": {
  "kernelspec": {
   "display_name": ".venv",
   "language": "python",
   "name": "python3"
  },
  "language_info": {
   "name": "python",
   "version": "3.12.9"
  }
 },
 "nbformat": 4,
 "nbformat_minor": 2
}
