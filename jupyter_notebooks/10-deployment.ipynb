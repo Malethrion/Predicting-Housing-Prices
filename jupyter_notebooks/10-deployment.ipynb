{
 "cells": [
  {
   "cell_type": "markdown",
   "metadata": {},
   "source": [
    "# Deployment Preparation\n",
    "Preparing the final trained model for deployment.\n"
   ]
  },
  {
   "cell_type": "code",
   "execution_count": null,
   "metadata": {},
   "outputs": [],
   "source": [
    "import streamlit as st\n",
    "import pickle\n",
    "import pandas as pd\n"
   ]
  },
  {
   "cell_type": "code",
   "execution_count": null,
   "metadata": {},
   "outputs": [],
   "source": [
    "## Load Trained Model\n",
    "Loading the saved `final_model.pkl` for making predictions.\n"
   ]
  },
  {
   "cell_type": "code",
   "execution_count": null,
   "metadata": {},
   "outputs": [],
   "source": [
    "st.title(\"Model Deployment\")\n",
    "\n",
    "@st.cache_data\n",
    "def load_model():\n",
    "    with open(\"../models/final_model.pkl\", \"rb\") as file:\n",
    "        model = pickle.load(file)\n",
    "    return model\n",
    "\n",
    "model = load_model()\n",
    "st.write(\"Final Model Loaded Successfully!\")\n"
   ]
  },
  {
   "cell_type": "markdown",
   "metadata": {},
   "source": [
    "## User Input for Predictions\n",
    "Allowing users to input house details for price prediction.\n"
   ]
  },
  {
   "cell_type": "code",
   "execution_count": null,
   "metadata": {},
   "outputs": [],
   "source": [
    "st.sidebar.header(\"Enter House Details\")\n",
    "\n",
    "# Creating user input fields\n",
    "lot_area = st.sidebar.number_input(\"Lot Area\")\n",
    "overall_qual = st.sidebar.selectbox(\"Overall Quality\", [1, 2, 3, 4, 5, 6, 7, 8, 9, 10])\n",
    "\n",
    "# Create input DataFrame\n",
    "input_data = pd.DataFrame([{\n",
    "    \"LotArea\": lot_area,\n",
    "    \"OverallQual\": overall_qual,\n",
    "}])\n",
    "\n",
    "st.write(\"User Input Data\", input_data)\n"
   ]
  },
  {
   "cell_type": "markdown",
   "metadata": {},
   "source": [
    "## Predict House Price\n",
    "Generating predictions based on user input.\n"
   ]
  },
  {
   "cell_type": "code",
   "execution_count": null,
   "metadata": {},
   "outputs": [],
   "source": [
    "if st.sidebar.button(\"Predict Price\"):\n",
    "    predicted_price = model.predict(input_data)\n",
    "    st.write(f\"Predicted House Price: ${predicted_price[0]:,.2f}\")\n"
   ]
  }
 ],
 "metadata": {
  "kernelspec": {
   "display_name": ".venv",
   "language": "python",
   "name": "python3"
  },
  "language_info": {
   "name": "python",
   "version": "3.12.9"
  }
 },
 "nbformat": 4,
 "nbformat_minor": 2
}
