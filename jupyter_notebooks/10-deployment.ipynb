{
 "cells": [
  {
   "cell_type": "markdown",
   "metadata": {},
   "source": [
    "# Deploy Using Streamlit\n",
    "We create a simple Streamlit web app for users to input features and get a Predicting Housing Prices.\n",
    "\n"
   ]
  },
  {
   "cell_type": "code",
   "execution_count": null,
   "metadata": {},
   "outputs": [],
   "source": [
    "# Import necessary libraries\n",
    "import pandas as pd\n",
    "import streamlit as st\n",
    "import pickle\n",
    "import os\n",
    "\n",
    "# Ensure models directory exists\n",
    "if not os.path.exists(\"../models\"):\n",
    "    os.makedirs(\"../models\")\n",
    "\n"
   ]
  },
  {
   "cell_type": "markdown",
   "metadata": {},
   "source": [
    "## Load Feature Information\n",
    "We ensure that user inputs match the trained model's expected features."
   ]
  },
  {
   "cell_type": "code",
   "execution_count": null,
   "metadata": {},
   "outputs": [],
   "source": [
    "# Load expected features from training data\n",
    "train_data = pd.read_csv(\"../data/processed_train.csv\")\n",
    "expected_features = train_data.drop(columns=[\"SalePrice\"]).columns.tolist()\n",
    "\n",
    "print(\"Expected features loaded successfully.\")\n",
    "print(\"Feature count:\", len(expected_features))\n",
    "print(\"Feature names:\", expected_features)\n",
    "\n",
    "\n"
   ]
  },
  {
   "cell_type": "markdown",
   "metadata": {},
   "source": [
    "## Load the Trained Model\n",
    "We load the trained model from the `models/` directory to use it for real-time predictions.\n"
   ]
  },
  {
   "cell_type": "markdown",
   "metadata": {},
   "source": [
    "# Deploy Using Streamlit\n",
    "We create a simple Streamlit web app for users to input features and get a Predicting Housing Prices.\n",
    "\n"
   ]
  },
  {
   "cell_type": "code",
   "execution_count": null,
   "metadata": {},
   "outputs": [],
   "source": [
    "# Load trained model\n",
    "model_path = \"../models/final_model.pkl\"\n",
    "\n",
    "if not os.path.exists(model_path):\n",
    "    raise FileNotFoundError(\"Model file not found. Please train the model first.\")\n",
    "\n",
    "with open(model_path, \"rb\") as file:\n",
    "    model = pickle.load(file)\n",
    "\n",
    "print(\"Trained model loaded successfully.\")\n"
   ]
  },
  {
   "cell_type": "markdown",
   "metadata": {},
   "source": [
    "## Create Prediction Function\n",
    "A function to take user input, format it, and return the predicted house price.\n",
    "\n",
    "\n"
   ]
  },
  {
   "cell_type": "code",
   "execution_count": null,
   "metadata": {},
   "outputs": [],
   "source": [
    "def predict_price(input_features):\n",
    "    \"\"\"Predict house price based on input features.\"\"\"\n",
    "    # Convert input to DataFrame\n",
    "    input_df = pd.DataFrame([input_features])\n",
    "\n",
    "    # Ensure feature order matches training set\n",
    "    for feature in expected_features:\n",
    "        if feature not in input_df.columns:\n",
    "            input_df[feature] = 0  # Add missing features as 0\n",
    "\n",
    "    # Reorder columns\n",
    "    input_df = input_df[expected_features]\n",
    "\n",
    "    # Predict house price\n",
    "    prediction = model.predict(input_df)[0]\n",
    "    return prediction\n",
    "\n",
    "\n"
   ]
  },
  {
   "cell_type": "markdown",
   "metadata": {},
   "source": [
    "## Streamlit UI\n",
    "Users can enter house features, and the model will predict the price.\n"
   ]
  },
  {
   "cell_type": "code",
   "execution_count": null,
   "metadata": {},
   "outputs": [],
   "source": [
    "# Streamlit UI\n",
    "st.title(\"Predicting Housing Prices\")\n",
    "st.write(\"Enter the house features below to predict its price.\")\n",
    "\n",
    "# Create input fields dynamically\n",
    "user_input = {}\n",
    "for feature in expected_features[:10]:  # Limiting to 10 features for simplicity\n",
    "    user_input[feature] = st.number_input(feature, value=0)  # Ensure valid field names\n",
    "\n",
    "# Predict button\n",
    "if st.button(\"Predict Price\"):\n",
    "    predicted_price = predict_price(user_input)\n",
    "    st.success(f\"Predicted House Price: ${predicted_price:,.2f}\")\n"
   ]
  },
  {
   "cell_type": "markdown",
   "metadata": {},
   "source": [
    "## Predict House Price\n",
    "The model will use user inputs to predict house prices.\n"
   ]
  },
  {
   "cell_type": "code",
   "execution_count": null,
   "metadata": {},
   "outputs": [],
   "source": [
    "def predict_price(input_features):\n",
    "    \"\"\"Predict house price based on input features.\"\"\"\n",
    "    input_df = pd.DataFrame([input_features])\n",
    "\n",
    "    # Ensure feature order matches training set\n",
    "    for feature in expected_features:\n",
    "        if feature not in input_df.columns:\n",
    "            input_df[feature] = 0  # Add missing features as 0\n",
    "\n",
    "    # Reorder columns\n",
    "    input_df = input_df[expected_features]\n",
    "\n",
    "    # Predict house price\n",
    "    prediction = model.predict(input_df)[0]\n",
    "    return prediction\n"
   ]
  },
  {
   "cell_type": "markdown",
   "metadata": {},
   "source": [
    "## Summary\n",
    "- Loaded the trained model.\n",
    "- Created a Streamlit UI for user input.\n",
    "- Defined the `predict_price()` function to generate predictions.\n",
    "- Ensured feature alignment between input and training data.\n"
   ]
  }
 ],
 "metadata": {
  "kernelspec": {
   "display_name": ".venv",
   "language": "python",
   "name": "python3"
  },
  "language_info": {
   "codemirror_mode": {
    "name": "ipython",
    "version": 3
   },
   "file_extension": ".py",
   "mimetype": "text/x-python",
   "name": "python",
   "nbconvert_exporter": "python",
   "pygments_lexer": "ipython3",
   "version": "3.12.9"
  }
 },
 "nbformat": 4,
 "nbformat_minor": 2
}
