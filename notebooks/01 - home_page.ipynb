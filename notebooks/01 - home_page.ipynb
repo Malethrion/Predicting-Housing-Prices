{
 "cells": [
  {
   "cell_type": "markdown",
   "metadata": {},
   "source": [
    "\t# Home Page: Overview of Housing Price Prediction Project"
   ]
  },
  {
   "cell_type": "code",
   "execution_count": null,
   "metadata": {},
   "outputs": [],
   "source": [
    "\timport streamlit as st"
   ]
  },
  {
   "cell_type": "code",
   "execution_count": null,
   "metadata": {},
   "outputs": [],
   "source": [
    "\tst.title('Housing Price Prediction')"
   ]
  },
  {
   "cell_type": "markdown",
   "metadata": {},
   "source": [
    "## Project Overview\n",
    "This project is designed to predict housing prices based on various attributes such as \n",
    "location, square footage, and other structural factors. \n",
    "\n",
    "The prediction model is built using a machine learning pipeline that leverages historical data \n",
    "to generate accurate estimates of housing prices.\n"
   ]
  },
  {
   "cell_type": "markdown",
   "metadata": {},
   "source": [
    "## Business Requirement 1 (BR1)\n",
    "The client is interested in understanding the factors that correlate with the sale price \n",
    "of a house. This will help them make data-driven investment decisions.\n"
   ]
  },
  {
   "cell_type": "markdown",
   "metadata": {},
   "source": [
    "## Business Requirement 2 (BR2)\n",
    "The client wants to predict the sale price of houses based on certain input features. \n",
    "We will develop a predictive model that estimates house prices given user-provided attributes.\n"
   ]
  }
 ],
 "metadata": {
  "kernelspec": {
   "display_name": ".venv",
   "language": "python",
   "name": "python3"
  },
  "language_info": {
   "name": "python",
   "version": "3.12.9"
  }
 },
 "nbformat": 4,
 "nbformat_minor": 2
}
