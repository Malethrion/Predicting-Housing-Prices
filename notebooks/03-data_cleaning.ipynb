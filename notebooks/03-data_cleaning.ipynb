{
 "cells": [
  {
   "cell_type": "markdown",
   "metadata": {},
   "source": [
    "# Data Cleaning\n",
    "\n",
    "## Purpose\n",
    "This notebook handles missing data, outliers, and ensures the dataset is ready for model training.\n"
   ]
  },
  {
   "cell_type": "code",
   "execution_count": null,
   "metadata": {},
   "outputs": [],
   "source": [
    "import pandas as pd\n",
    "import streamlit as st\n",
    "\n",
    "# Load the raw data\n",
    "data = pd.read_csv(\"data/train.csv\")\n",
    "\n",
    "# Handling missing values\n",
    "data.fillna(data.mean(), inplace=True)  # Fill numerical columns with the mean\n",
    "data['MSZoning'].fillna(data['MSZoning'].mode()[0], inplace=True)  # Fill categorical columns with the mode\n",
    "\n",
    "# Show the cleaned data sample\n",
    "st.write(\"Cleaned Data Sample\", data.head())\n",
    "\n",
    "# Save cleaned data\n",
    "data.to_csv(\"data/final_cleaned_train.csv\", index=False)\n"
   ]
  }
 ],
 "metadata": {
  "kernelspec": {
   "display_name": ".venv",
   "language": "python",
   "name": "python3"
  },
  "language_info": {
   "name": "python",
   "version": "3.12.9"
  }
 },
 "nbformat": 4,
 "nbformat_minor": 2
}
