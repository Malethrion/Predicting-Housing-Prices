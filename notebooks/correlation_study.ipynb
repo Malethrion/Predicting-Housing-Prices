{
 "cells": [
  {
   "cell_type": "markdown",
   "metadata": {},
   "source": [
    "# Correlation Study\n",
    "\n",
    "## Purpose\n",
    "This notebook analyzes correlations between features in the dataset to determine important relationships that can help in predictive modeling.\n",
    "\n",
    "## Key Objectives\n",
    "- Compute correlation matrices.\n",
    "- Visualize relationships using heatmaps and scatter plots.\n",
    "- Identify highly correlated features for feature selection.\n"
   ]
  },
  {
   "cell_type": "code",
   "execution_count": null,
   "metadata": {
    "vscode": {
     "languageId": "plaintext"
    }
   },
   "outputs": [],
   "source": [
    "import pandas as pd\n",
    "import seaborn as sns\n",
    "import matplotlib.pyplot as plt\n",
    "import numpy as np\n",
    "\n",
    "# Set plot style\n",
    "sns.set_style(\"whitegrid\")\n"
   ]
  }
 ],
 "metadata": {
  "language_info": {
   "name": "python"
  }
 },
 "nbformat": 4,
 "nbformat_minor": 2
}
