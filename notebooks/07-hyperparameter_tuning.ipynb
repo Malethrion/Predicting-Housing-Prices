{
 "cells": [
  {
   "cell_type": "markdown",
   "metadata": {},
   "source": [
    "# Hyperparameter Tuning\n",
    "\n",
    "## Purpose\n",
    "This notebook fine-tunes the best model to optimize its performance.\n",
    "\n",
    "## Key Objectives\n",
    "- Use GridSearchCV to find the best hyperparameters.\n",
    "- Improve model performance using optimized settings.\n"
   ]
  }
 ],
 "metadata": {
  "kernelspec": {
   "display_name": ".venv",
   "language": "python",
   "name": "python3"
  },
  "language_info": {
   "name": "python",
   "version": "3.12.9"
  }
 },
 "nbformat": 4,
 "nbformat_minor": 2
}
