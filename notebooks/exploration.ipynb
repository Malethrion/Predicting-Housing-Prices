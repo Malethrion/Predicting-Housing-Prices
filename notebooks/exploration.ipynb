{
 "cells": [
  {
   "cell_type": "code",
   "execution_count": null,
   "metadata": {},
   "outputs": [],
   "source": [
    "import pandas as pd  # Data manipulation\n",
    "import numpy as np  # Numerical calculations\n",
    "import matplotlib.pyplot as plt  # Basic data visualization\n",
    "import seaborn as sns  # Advanced data visualization\n",
    "from ydata_profiling import ProfileReport # Automated EDA reports\n",
    "import os  # Importing OS module for file operations\n",
    "\n",
    "# Load the dataset using a relative path\n",
    "df = pd.read_csv(\"../data/train.csv\")\n",
    "\n",
    "# Check for missing values in each column\n",
    "print(\"\\nMissing Values per Column:\")\n",
    "print(df.isnull().sum())\n",
    "\n",
    "# Display the first few rows of the dataset\n",
    "print(\"\\nFirst 5 Rows of the Dataset:\")\n",
    "print(df.head())\n",
    "\n",
    "# Display dataset information\n",
    "print(\"\\nDataset Information:\")\n",
    "print(df.info())\n",
    "\n",
    "# Display summary statistics\n",
    "print(\"\\nSummary Statistics:\")\n",
    "print(df.describe())\n",
    "\n",
    "# Check current working directory\n",
    "print(\"\\nCurrent Working Directory:\")\n",
    "print(os.getcwd())\n",
    "\n",
    "# List the contents of the 'data' folder\n",
    "print(\"\\nContents of 'data' Directory:\")\n",
    "print(os.listdir(\"../data\"))\n",
    "\n",
    "\n"
   ]
  },
  {
   "cell_type": "code",
   "execution_count": null,
   "metadata": {},
   "outputs": [],
   "source": [
    "# Reload the saved CSV file and check its contents\n",
    "df_check = pd.read_csv(\"../data/final_cleaned_train.csv\")\n",
    "\n",
    "# Print the shape to verify it has rows and columns\n",
    "print(\"Reloaded CSV shape:\", df_check.shape)  # Should NOT be (0, 82)\n",
    "\n",
    "# Show first few rows to confirm the data is correctly loaded\n",
    "print(df_check.head())\n"
   ]
  },
  {
   "cell_type": "code",
   "execution_count": null,
   "metadata": {},
   "outputs": [],
   "source": [
    "print(\"Before saving, DataFrame shape:\", df.shape)  # Should NOT be (0, 82)\n",
    "print(df.head())  # Preview first few rows\n"
   ]
  },
  {
   "cell_type": "code",
   "execution_count": null,
   "metadata": {},
   "outputs": [],
   "source": [
    "df.to_csv(\"../data/final_cleaned_train.csv\", index=False)\n",
    "print(\"Dataset saved successfully!\")\n"
   ]
  },
  {
   "cell_type": "code",
   "execution_count": null,
   "metadata": {},
   "outputs": [],
   "source": [
    "# Ensure the os module is imported\n",
    "import os \n",
    "# Lists all files in the data directory\n",
    "print(\"Files in data folder:\", os.listdir(\"../data\"))\n"
   ]
  },
  {
   "cell_type": "code",
   "execution_count": null,
   "metadata": {},
   "outputs": [],
   "source": [
    "import pandas as pd\n",
    "df_check = pd.read_csv(\"../data/final_cleaned_train.csv\")\n",
    "\n",
    "# Should show (number_of_rows, number_of_columns)\n",
    "print(\"Shape of CSV file:\", df_check.shape)  "
   ]
  },
  {
   "cell_type": "code",
   "execution_count": null,
   "metadata": {},
   "outputs": [],
   "source": [
    "# Generate an EDA report using Pandas Profiling\n",
    "profile = ProfileReport(df, explorative=True, correlations={\"auto\": {\"calculate\": False}})\n",
    "\n",
    "# Save the report as an HTML file\n",
    "profile.to_file(\"eda_report.html\")\n",
    "\n",
    "print(\"EDA report generated successfully!\")\n"
   ]
  },
  {
   "cell_type": "code",
   "execution_count": null,
   "metadata": {},
   "outputs": [],
   "source": [
    "# Save the cleaned dataset for future use\n",
    "df.to_csv(\"../data/cleaned_train.csv\", index=False)\n",
    "print(\"Cleaned dataset saved successfully!\")\n"
   ]
  },
  {
   "cell_type": "code",
   "execution_count": null,
   "metadata": {},
   "outputs": [],
   "source": [
    "\n",
    "# Apply log transformation to SalePrice if highly skewed\n",
    "df['SalePrice'] = np.log1p(df['SalePrice'])\n",
    "\n",
    "# Handle any infinite or NaN values after transformation\n",
    "if df.isnull().sum().sum() > 0:  # Only drop rows if there are missing values\n",
    "    df.dropna(inplace=True)\n",
    "\n",
    "# Create a new feature: Price per square foot\n",
    "df['PricePerSqFt'] = df['SalePrice'] / df['GrLivArea']\n",
    "df['PricePerSqFt'].fillna(df['PricePerSqFt'].median(), inplace=True)  # Avoid NaN if division by zero occurs\n",
    "\n",
    "# Save the transformed dataset\n",
    "df.to_csv(\"../data/final_cleaned_train.csv\", index=False)\n",
    "print(\"Final cleaned dataset saved successfully with feature transformations!\")\n"
   ]
  },
  {
   "cell_type": "code",
   "execution_count": null,
   "metadata": {},
   "outputs": [],
   "source": [
    "# Verify that missing values are handled\n",
    "print(\"\\nMissing Values After Handling:\")\n",
    "print(df.isnull().sum())\n"
   ]
  },
  {
   "cell_type": "code",
   "execution_count": null,
   "metadata": {},
   "outputs": [],
   "source": [
    "# Fill missing values for numerical columns with the median\n",
    "df[\"LotFrontage\"].fillna(df[\"LotFrontage\"].median(), inplace=True)\n",
    "\n",
    "# Fill missing values for categorical columns with the most frequent value (mode)\n",
    "mode_value = df[\"MasVnrType\"].mode()\n",
    "if not mode_value.empty:\n",
    "    df[\"MasVnrType\"].fillna(mode_value[0], inplace=True)\n",
    "else:\n",
    "    df[\"MasVnrType\"].fillna(\"Unknown\", inplace=True)  # Or another default value\n",
    "\n"
   ]
  },
  {
   "cell_type": "code",
   "execution_count": null,
   "metadata": {},
   "outputs": [],
   "source": [
    "# Verify that all necessary dependencies are installed correctly\n",
    "import pkg_resources\n",
    "import ydata_profiling\n",
    "\n",
    "print(\"All dependencies are installed correctly!\")\n"
   ]
  },
  {
   "cell_type": "code",
   "execution_count": null,
   "metadata": {},
   "outputs": [],
   "source": [
    "# Check if DataFrame has data before running ProfileReport\n",
    "print(\"DataFrame Shape:\", df.shape)  # Verify if it has rows and columns\n",
    "print(df.head())  # Preview first few rows\n",
    "\n",
    "# Generate a Profile Report for EDA\n",
    "profile = ProfileReport(df, explorative=True)\n",
    "profile.to_notebook_iframe()\n",
    "\n",
    "print(\"DataFrame shape before ProfileReport:\", df.shape)\n",
    "print(df.head())  # Preview first few rows\n"
   ]
  },
  {
   "cell_type": "code",
   "execution_count": null,
   "metadata": {},
   "outputs": [],
   "source": [
    "# Scatter plot to visualize the relationship between SalePrice and GrLivArea\n",
    "plt.figure(figsize=(10, 6))\n",
    "sns.scatterplot(x=df['GrLivArea'], y=df['SalePrice'])\n",
    "plt.title('SalePrice vs GrLivArea')  # Title of the plot\n",
    "plt.xlabel('Above Ground Living Area (sq ft)')  # Label for x-axis\n",
    "plt.ylabel('SalePrice')  # Label for y-axis\n",
    "plt.show()\n"
   ]
  },
  {
   "cell_type": "code",
   "execution_count": null,
   "metadata": {},
   "outputs": [],
   "source": [
    "# Correlation matrix heatmap to show relationships between all features\n",
    "plt.figure(figsize=(12, 8))\n",
    "corr_matrix = df.corr()  # Compute correlation matrix\n",
    "sns.heatmap(corr_matrix, annot=True, cmap='coolwarm', fmt='.2f', linewidths=0.5)\n",
    "plt.title('Correlation Matrix')  # Title of the heatmap\n",
    "plt.show()\n"
   ]
  },
  {
   "cell_type": "code",
   "execution_count": null,
   "metadata": {},
   "outputs": [],
   "source": [
    "# Box plot to visualize the distribution of SalePrice across different OverallQual levels\n",
    "plt.figure(figsize=(10, 6))\n",
    "sns.boxplot(x=df['OverallQual'], y=df['SalePrice'])\n",
    "plt.title('SalePrice by Overall Quality')  # Title of the plot\n",
    "plt.show()\n"
   ]
  },
  {
   "cell_type": "code",
   "execution_count": null,
   "metadata": {},
   "outputs": [],
   "source": [
    "# Box plot to check for outliers in SalePrice\n",
    "plt.figure(figsize=(10, 6))\n",
    "sns.boxplot(x=df['SalePrice'])\n",
    "plt.title('SalePrice Distribution with Outliers')  # Title of the plot\n",
    "plt.show()\n",
    "\n",
    "# Removing extreme SalePrice outliers (e.g., above 700,000)\n",
    "df = df[df['SalePrice'] < 700000]\n",
    "\n",
    "# Save the cleaned dataset after removing outliers\n",
    "df.to_csv(\"../data/cleaned_train.csv\", index=False)\n",
    "print(\"Cleaned dataset saved successfully after outlier removal!\")\n",
    "\n"
   ]
  },
  {
   "cell_type": "markdown",
   "metadata": {},
   "source": [
    "## Summary of Insights\n",
    "\n",
    "1. **High Correlation with `OverallQual`**:\n",
    "   - There is a strong positive correlation between the `SalePrice` and `OverallQual`. Higher quality houses tend to sell for much higher prices, indicating that the overall condition and features of the house significantly impact its value.\n",
    "\n",
    "2. **Log Transformation of `SalePrice`**:\n",
    "   - The distribution of `SalePrice` is highly skewed, which could negatively affect certain machine learning models. To address this, a log transformation was applied to `SalePrice`, which helped normalize the distribution and made the data more suitable for modeling.\n",
    "\n",
    "3. **Outliers in `SalePrice`**:\n",
    "   - Several outliers were detected in the `SalePrice` feature. These extreme values can distort the model’s accuracy. As a result, outliers above a specified threshold (e.g., 700,000 USD) were removed to ensure the model performs well without being skewed by these extreme values.\n",
    "\n",
    "## Business Relevance\n",
    "\n",
    "- **Impact on Property Investment**: These insights can guide property investors in focusing on homes with higher `OverallQual` ratings, which are likely to provide better returns. Additionally, adjusting for outliers ensures that predictions are more accurate and not overly influenced by atypical data points.\n",
    "\n",
    "- **Market Strategy**: The transformation of `SalePrice` helps in identifying more consistent price trends, which can aid real estate businesses in setting better price expectations and making more data-driven decisions for listing properties.\n"
   ]
  }
 ],
 "metadata": {
  "kernelspec": {
   "display_name": ".venv",
   "language": "python",
   "name": "python3"
  },
  "language_info": {
   "codemirror_mode": {
    "name": "ipython",
    "version": 3
   },
   "file_extension": ".py",
   "mimetype": "text/x-python",
   "name": "python",
   "nbconvert_exporter": "python",
   "pygments_lexer": "ipython3",
   "version": "3.12.9"
  }
 },
 "nbformat": 4,
 "nbformat_minor": 2
}
