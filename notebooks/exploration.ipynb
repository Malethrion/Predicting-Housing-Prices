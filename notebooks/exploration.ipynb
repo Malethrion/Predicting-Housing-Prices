{
 "cells": [
  {
   "cell_type": "code",
   "execution_count": null,
   "metadata": {},
   "outputs": [],
   "source": [
    "# Importing essential libraries\n",
    "import pandas as pd  # Data manipulation\n",
    "import numpy as np  # Numerical calculations\n",
    "import matplotlib.pyplot as plt\n",
    "import seaborn as sns\n",
    "from ydata_profiling import ProfileReport  # Automated EDA reports\n",
    "import os  # File operations\n",
    "\n",
    "# Ensure correct Matplotlib backend for Jupyter Notebook\n",
    "%matplotlib inline\n",
    "\n",
    "# Set plot style\n",
    "sns.set_style(\"whitegrid\")\n",
    "\n",
    "\n"
   ]
  },
  {
   "cell_type": "code",
   "execution_count": null,
   "metadata": {},
   "outputs": [],
   "source": [
    "# Load the dataset\n",
    "df = pd.read_csv(\"../data/train.csv\")  # Adjust the path if necessary\n",
    "\n",
    "# Print dataset shape\n",
    "print(\"Dataset Shape:\", df.shape)\n",
    "\n",
    "# Display first few rows\n",
    "df.head()\n"
   ]
  },
  {
   "cell_type": "code",
   "execution_count": null,
   "metadata": {},
   "outputs": [],
   "source": [
    "# Check for missing values in each column\n",
    "print(\"\\nMissing Values per Column:\")\n",
    "print(df.isnull().sum())\n",
    "\n",
    "# Display dataset information\n",
    "print(\"\\nDataset Information:\")\n",
    "df.info()\n",
    "\n",
    "# Display summary statistics\n",
    "print(\"\\nSummary Statistics:\")\n",
    "df.describe()\n"
   ]
  },
  {
   "cell_type": "code",
   "execution_count": null,
   "metadata": {},
   "outputs": [],
   "source": [
    "# Check the current working directory\n",
    "print(\"\\nCurrent Working Directory:\")\n",
    "print(os.getcwd())\n",
    "\n",
    "# List the contents of the 'data' folder\n",
    "print(\"\\nContents of 'data' Directory:\")\n",
    "print(os.listdir(\"../data\"))\n",
    "\n"
   ]
  },
  {
   "cell_type": "code",
   "execution_count": null,
   "metadata": {},
   "outputs": [],
   "source": [
    "# Generate an EDA report\n",
    "profile = ProfileReport(df, explorative=True)\n",
    "\n",
    "# Save the report as an HTML file\n",
    "profile.to_file(\"eda_report.html\")\n",
    "\n",
    "print(\"EDA report generated successfully!\")\n",
    "\n"
   ]
  },
  {
   "cell_type": "code",
   "execution_count": null,
   "metadata": {},
   "outputs": [],
   "source": [
    "# Fill missing values for numerical columns with median\n",
    "df[\"LotFrontage\"].fillna(df[\"LotFrontage\"].median(), inplace=True)\n",
    "\n",
    "# Fill missing values for categorical columns with mode\n",
    "mode_value = df[\"MasVnrType\"].mode()\n",
    "if not mode_value.empty:\n",
    "    df[\"MasVnrType\"].fillna(mode_value[0], inplace=True)\n",
    "else:\n",
    "    df[\"MasVnrType\"].fillna(\"Unknown\", inplace=True)  # Default value if mode is empty\n",
    "\n",
    "# Verify missing values are handled\n",
    "print(\"\\nMissing Values After Handling:\")\n",
    "print(df.isnull().sum())\n"
   ]
  },
  {
   "cell_type": "code",
   "execution_count": null,
   "metadata": {},
   "outputs": [],
   "source": [
    "# Save the cleaned dataset\n",
    "df.to_csv(\"../data/cleaned_train.csv\", index=False)\n",
    "print(\"Cleaned dataset saved successfully!\")\n"
   ]
  },
  {
   "cell_type": "code",
   "execution_count": null,
   "metadata": {},
   "outputs": [],
   "source": [
    "# Apply log transformation to SalePrice if highly skewed\n",
    "df['SalePrice'] = np.log1p(df['SalePrice'])\n",
    "\n",
    "# Handle any infinite or NaN values after transformation\n",
    "if df.isnull().sum().sum() > 0:  # Only drop rows if there are missing values\n",
    "    df.fillna(df.median(numeric_only=True), inplace=True)  # <-- Indented properly\n",
    "\n",
    "\n",
    "# Fill missing values for categorical columns with the most frequent value (mode)\n",
    "for col in df.select_dtypes(include=['object']).columns:\n",
    "    df[col].fillna(df[col].mode()[0], inplace=True)\n",
    "\n",
    "\n",
    "# Create a new feature: Price per square foot\n",
    "df['PricePerSqFt'] = df['SalePrice'] / df['GrLivArea']\n",
    "df['PricePerSqFt'].fillna(df['PricePerSqFt'].median(), inplace=True)  # Avoid NaN if division by zero occurs\n",
    "\n",
    "# Save the transformed dataset\n",
    "\n",
    "# Debugging: Check DataFrame before saving\n",
    "print(\"Before saving, DataFrame shape:\", df.shape)\n",
    "\n",
    "# Save only if the DataFrame is NOT empty\n",
    "if df.shape[0] > 0:\n",
    "    df.to_csv(\"../data/final_cleaned_train.csv\", index=False)\n",
    "    print(f\"Final cleaned dataset saved successfully! Shape: {df.shape}\")\n",
    "else:\n",
    "    raise ValueError(\"ERROR: DataFrame is empty before saving! Check preprocessing steps.\")\n",
    "\n"
   ]
  },
  {
   "cell_type": "code",
   "execution_count": null,
   "metadata": {},
   "outputs": [],
   "source": [
    "# Verify the CSV file before loading\n",
    "\n",
    "file_path = \"../data/final_cleaned_train.csv\"\n",
    "\n",
    "if os.path.exists(file_path) and os.path.getsize(file_path) > 0:\n",
    "    df_check = pd.read_csv(file_path)\n",
    "    print(\"Reloaded CSV successfully! Shape:\", df_check.shape)\n",
    "    print(df_check.head())\n",
    "else:\n",
    "    print(\"WARNING: CSV file is empty or missing!\")\n",
    "\n"
   ]
  },
  {
   "cell_type": "code",
   "execution_count": null,
   "metadata": {},
   "outputs": [],
   "source": [
    "# Scatter plot to visualize the relationship between SalePrice and GrLivArea\n",
    "plt.figure(figsize=(10, 6))\n",
    "sns.scatterplot(x=df['GrLivArea'], y=df['SalePrice'])\n",
    "plt.title('SalePrice vs GrLivArea')\n",
    "plt.xlabel('Above Ground Living Area (sq ft)')\n",
    "plt.ylabel('SalePrice')\n",
    "plt.show()\n"
   ]
  },
  {
   "cell_type": "code",
   "execution_count": null,
   "metadata": {},
   "outputs": [],
   "source": [
    "# Correlation matrix heatmap to show relationships between all features\n",
    "plt.figure(figsize=(12, 8))\n",
    "# Remove any columns that are completely NaN before correlation\n",
    "df_corr = df.dropna(axis=1, how=\"all\")  # Remove columns that are completely NaN\n",
    "df_corr_numeric = df_corr.select_dtypes(include=['number'])  # Keep only numeric columns\n",
    "\n",
    "if df_corr_numeric.shape[0] > 0 and df_corr_numeric.shape[1] > 1:\n",
    "    corr_matrix = df_corr_numeric.corr()  # Compute correlation only on numeric values\n",
    "    sns.heatmap(corr_matrix, annot=True, cmap=\"coolwarm\", fmt=\".2f\", linewidths=0.5)\n",
    "    plt.title(\"Correlation Matrix\")\n",
    "    plt.show()\n",
    "else:\n",
    "    print(\"WARNING: Not enough valid numeric data to compute correlations!\")\n",
    "\n",
    "\n",
    "\n"
   ]
  },
  {
   "cell_type": "code",
   "execution_count": null,
   "metadata": {},
   "outputs": [],
   "source": [
    "# Box plot to visualize the distribution of SalePrice across different OverallQual levels\n",
    "plt.figure(figsize=(10, 6))\n",
    "sns.boxplot(x=df['OverallQual'], y=df['SalePrice'])\n",
    "plt.title('SalePrice by Overall Quality')\n",
    "plt.show()\n"
   ]
  },
  {
   "cell_type": "code",
   "execution_count": null,
   "metadata": {},
   "outputs": [],
   "source": [
    "# Box plot to check for outliers in SalePrice\n",
    "plt.figure(figsize=(10, 6))\n",
    "sns.boxplot(x=df['SalePrice'])\n",
    "plt.title('SalePrice Distribution with Outliers')\n",
    "plt.show()\n"
   ]
  },
  {
   "cell_type": "markdown",
   "metadata": {},
   "source": [
    "## Summary of Insights\n",
    "\n",
    "1. **High Correlation with `OverallQual`**:\n",
    "   - There is a strong positive correlation between the `SalePrice` and `OverallQual`. Higher quality houses tend to sell for much higher prices, indicating that the overall condition and features of the house significantly impact its value.\n",
    "\n",
    "2. **Log Transformation of `SalePrice`**:\n",
    "   - The distribution of `SalePrice` is highly skewed, which could negatively affect certain machine learning models. To address this, a log transformation was applied to `SalePrice`, which helped normalize the distribution and made the data more suitable for modeling.\n",
    "\n",
    "3. **Outliers in `SalePrice`**:\n",
    "   - Several outliers were detected in the `SalePrice` feature. These extreme values can distort the model’s accuracy. As a result, outliers above a specified threshold (e.g., 700,000 USD) were removed to ensure the model performs well without being skewed by these extreme values.\n",
    "\n",
    "## Business Relevance\n",
    "\n",
    "- **Impact on Property Investment**: These insights can guide property investors in focusing on homes with higher `OverallQual` ratings, which are likely to provide better returns. Additionally, adjusting for outliers ensures that predictions are more accurate and not overly influenced by atypical data points.\n",
    "\n",
    "- **Market Strategy**: The transformation of `SalePrice` helps in identifying more consistent price trends, which can aid real estate businesses in setting better price expectations and making more data-driven decisions for listing properties.\n"
   ]
  },
  {
   "cell_type": "code",
   "execution_count": null,
   "metadata": {},
   "outputs": [],
   "source": [
    "# Ensure that filtering does not remove all data\n",
    "if df.shape[0] > 0:\n",
    "    filtered_df = df[df['SalePrice'] < 700000]\n",
    "\n",
    "    if filtered_df.shape[0] > 0:\n",
    "        df = filtered_df\n",
    "        print(\"Outliers removed. New shape:\", df.shape)\n",
    "    else:\n",
    "        print(\"WARNING: No data left after filtering! Keeping original dataset.\")\n",
    "else:\n",
    "    print(\"ERROR: DataFrame is already empty before filtering.\")\n",
    "\n",
    "\n",
    "\n"
   ]
  }
 ],
 "metadata": {
  "kernelspec": {
   "display_name": ".venv",
   "language": "python",
   "name": "python3"
  },
  "language_info": {
   "codemirror_mode": {
    "name": "ipython",
    "version": 3
   },
   "file_extension": ".py",
   "mimetype": "text/x-python",
   "name": "python",
   "nbconvert_exporter": "python",
   "pygments_lexer": "ipython3",
   "version": "3.12.9"
  }
 },
 "nbformat": 4,
 "nbformat_minor": 2
}
