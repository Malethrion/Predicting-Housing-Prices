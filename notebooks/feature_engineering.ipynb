{
 "cells": [
  {
   "cell_type": "markdown",
   "metadata": {},
   "source": [
    "# Feature Engineering\n",
    "\n",
    "## Purpose\n",
    "This notebook focuses on transforming and engineering features to enhance model performance.\n",
    "\n",
    "## Key Objectives\n",
    "- Create new features based on existing ones.\n",
    "- Encode categorical features.\n",
    "- Normalize or scale numerical features.\n"
   ]
  },
  {
   "cell_type": "code",
   "execution_count": null,
   "metadata": {
    "vscode": {
     "languageId": "plaintext"
    }
   },
   "outputs": [],
   "source": [
    "import pandas as pd\n",
    "import numpy as np\n",
    "from sklearn.preprocessing import StandardScaler, LabelEncoder\n",
    "\n",
    "# Load the dataset\n",
    "df = pd.read_csv(\"../data/final_cleaned_train.csv\")\n"
   ]
  },
  {
   "cell_type": "code",
   "execution_count": null,
   "metadata": {
    "vscode": {
     "languageId": "plaintext"
    }
   },
   "outputs": [],
   "source": [
    "# Create a new feature: Price per square foot\n",
    "df[\"PricePerSqFt\"] = df[\"SalePrice\"] / df[\"GrLivArea\"]\n",
    "\n",
    "# Display changes\n",
    "df[[\"SalePrice\", \"GrLivArea\", \"PricePerSqFt\"]].head()\n"
   ]
  }
 ],
 "metadata": {
  "language_info": {
   "name": "python"
  }
 },
 "nbformat": 4,
 "nbformat_minor": 2
}
