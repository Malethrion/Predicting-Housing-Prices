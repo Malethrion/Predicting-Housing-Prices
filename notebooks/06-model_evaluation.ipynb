{
 "cells": [
  {
   "cell_type": "markdown",
   "metadata": {},
   "source": [
    "# Model Evaluation\n",
    "\n",
    "## Purpose\n",
    "This notebook evaluates the trained models using test data to assess their performance.\n",
    "\n",
    "## Key Objectives\n",
    "- Compare model performance using evaluation metrics.\n",
    "- Select the best-performing model for further tuning.\n"
   ]
  }
 ],
 "metadata": {
  "kernelspec": {
   "display_name": ".venv",
   "language": "python",
   "name": "python3"
  },
  "language_info": {
   "name": "python",
   "version": "3.12.9"
  }
 },
 "nbformat": 4,
 "nbformat_minor": 2
}
