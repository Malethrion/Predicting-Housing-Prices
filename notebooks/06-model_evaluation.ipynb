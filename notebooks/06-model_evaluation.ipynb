{
 "cells": [
  {
   "cell_type": "markdown",
   "metadata": {},
   "source": [
    "# Model Evaluation\n",
    "\n",
    "## Purpose\n",
    "This notebook evaluates the trained models using test data to assess their performance.\n",
    "\n",
    "## Key Objectives\n",
    "- Compare model performance using evaluation metrics.\n",
    "- Select the best-performing model for further tuning.\n"
   ]
  },
  {
   "cell_type": "code",
   "execution_count": null,
   "metadata": {},
   "outputs": [],
   "source": [
    "import pandas as pd\n",
    "from sklearn.metrics import mean_absolute_error, mean_squared_error, r2_score\n",
    "import streamlit as st\n",
    "import pickle\n",
    "\n",
    "# Load test dataset\n",
    "X_test = pd.read_csv(\"data/X_test.csv\")\n",
    "y_test = pd.read_csv(\"data/y_test.csv\")\n",
    "\n",
    "# Load trained model\n",
    "models = {\n",
    "    \"Linear Regression\": pickle.load(open(\"scripts/linear_regression.pkl\", \"rb\")),\n",
    "    \"Random Forest\": pickle.load(open(\"scripts/random_forest.pkl\", \"rb\")),\n",
    "}\n"
   ]
  },
  {
   "cell_type": "code",
   "execution_count": null,
   "metadata": {},
   "outputs": [],
   "source": [
    "results = {}\n",
    "\n",
    "for name, model in models.items():\n",
    "    predictions = model.predict(X_test)\n",
    "    mae = mean_absolute_error(y_test, predictions)\n",
    "    mse = mean_squared_error(y_test, predictions)\n",
    "    r2 = r2_score(y_test, predictions)\n",
    "\n",
    "    results[name] = {\"MAE\": mae, \"MSE\": mse, \"R2 Score\": r2}\n",
    "\n",
    "# Display results\n",
    "st.write(pd.DataFrame(results))\n"
   ]
  }
 ],
 "metadata": {
  "kernelspec": {
   "display_name": ".venv",
   "language": "python",
   "name": "python3"
  },
  "language_info": {
   "name": "python",
   "version": "3.12.9"
  }
 },
 "nbformat": 4,
 "nbformat_minor": 2
}
