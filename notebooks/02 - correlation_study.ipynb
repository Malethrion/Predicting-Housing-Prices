{
 "cells": [
  {
   "cell_type": "markdown",
   "metadata": {},
   "source": [
    "# Correlation Study\n",
    "\n",
    "## Purpose\n",
    "This notebook analyzes correlations between features in the dataset to determine important relationships that can help in predictive modeling.\n",
    "\n",
    "## Key Objectives\n",
    "- Compute correlation matrices.\n",
    "- Visualize relationships using heatmaps and scatter plots.\n",
    "- Identify highly correlated features for feature selection.\n"
   ]
  },
  {
   "cell_type": "code",
   "execution_count": null,
   "metadata": {},
   "outputs": [],
   "source": [
    "import pandas as pd\n",
    "import seaborn as sns\n",
    "import matplotlib.pyplot as plt\n",
    "import streamlit as st\n",
    "\n",
    "# Load the cleaned data\n",
    "data = pd.read_csv(\"data/final_cleaned_train.csv\")\n",
    "\n",
    "# Show a sample of the data\n",
    "st.write(\"Sample Data\", data.head())\n"
   ]
  },
  {
   "cell_type": "code",
   "execution_count": null,
   "metadata": {},
   "outputs": [],
   "source": [
    "# Compute correlation matrix\n",
    "correlation_matrix = data.corr()\n",
    "\n",
    "# Display correlation heatmap\n",
    "plt.figure(figsize=(12, 8))\n",
    "sns.heatmap(correlation_matrix, annot=True, cmap='coolwarm', fmt='.2f')\n",
    "st.pyplot()\n"
   ]
  },
  {
   "cell_type": "code",
   "execution_count": null,
   "metadata": {},
   "outputs": [],
   "source": [
    "# Identify highly correlated features (above 0.75)\n",
    "threshold = 0.75\n",
    "high_corr_features = correlation_matrix[abs(correlation_matrix) > threshold]\n",
    "high_corr_features.dropna(how=\"all\", inplace=True)\n",
    "\n",
    "st.write(\"Features with high correlation (above 0.75):\")\n",
    "st.write(high_corr_features)\n"
   ]
  }
 ],
 "metadata": {
  "kernelspec": {
   "display_name": ".venv",
   "language": "python",
   "name": "python3"
  },
  "language_info": {
   "name": "python",
   "version": "3.12.9"
  }
 },
 "nbformat": 4,
 "nbformat_minor": 2
}
