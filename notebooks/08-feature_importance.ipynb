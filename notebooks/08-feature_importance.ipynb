{
 "cells": [
  {
   "cell_type": "markdown",
   "metadata": {},
   "source": [
    "# Feature Importance\n",
    "\n",
    "## Purpose\n",
    "This notebook identifies the most important features influencing house prices.\n",
    "\n",
    "## Key Objectives\n",
    "- Extract feature importances from the trained model.\n",
    "- Visualize the impact of different features.\n"
   ]
  },
  {
   "cell_type": "code",
   "execution_count": null,
   "metadata": {},
   "outputs": [],
   "source": [
    "import pandas as pd\n",
    "import matplotlib.pyplot as plt\n",
    "import seaborn as sns\n",
    "import pickle\n",
    "\n",
    "# Load trained model\n",
    "model = pickle.load(open(\"scripts/random_forest.pkl\", \"rb\"))\n",
    "\n",
    "# Load feature names\n",
    "X_train = pd.read_csv(\"data/X_train.csv\")\n",
    "feature_names = X_train.columns\n"
   ]
  }
 ],
 "metadata": {
  "kernelspec": {
   "display_name": ".venv",
   "language": "python",
   "name": "python3"
  },
  "language_info": {
   "name": "python",
   "version": "3.12.9"
  }
 },
 "nbformat": 4,
 "nbformat_minor": 2
}
