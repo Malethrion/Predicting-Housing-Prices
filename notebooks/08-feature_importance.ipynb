{
 "cells": [
  {
   "cell_type": "markdown",
   "metadata": {},
   "source": [
    "# Feature Importance\n",
    "\n",
    "## Purpose\n",
    "This notebook identifies the most important features influencing house prices.\n",
    "\n",
    "## Key Objectives\n",
    "- Extract feature importances from the trained model.\n",
    "- Visualize the impact of different features.\n"
   ]
  }
 ],
 "metadata": {
  "kernelspec": {
   "display_name": ".venv",
   "language": "python",
   "name": "python3"
  },
  "language_info": {
   "name": "python",
   "version": "3.12.9"
  }
 },
 "nbformat": 4,
 "nbformat_minor": 2
}
